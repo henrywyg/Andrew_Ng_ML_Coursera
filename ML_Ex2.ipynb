{
 "cells": [
  {
   "cell_type": "code",
   "execution_count": 1,
   "metadata": {},
   "outputs": [],
   "source": [
    "#this is for logistric regression HW"
   ]
  },
  {
   "cell_type": "code",
   "execution_count": 367,
   "metadata": {},
   "outputs": [],
   "source": [
    "import pandas as pd\n",
    "import numpy as np\n",
    "import os\n",
    "from matplotlib import pyplot as plt\n",
    "from scipy import optimize as opt\n"
   ]
  },
  {
   "cell_type": "code",
   "execution_count": 29,
   "metadata": {},
   "outputs": [
    {
     "data": {
      "text/plain": [
       "<matplotlib.legend.Legend at 0x4bfb1a20b8>"
      ]
     },
     "execution_count": 29,
     "metadata": {},
     "output_type": "execute_result"
    },
    {
     "data": {
      "image/png": "[encoded data removed]",
      "text/plain": [
       "<Figure size 432x288 with 1 Axes>"
      ]
     },
     "metadata": {},
     "output_type": "display_data"
    }
   ],
   "source": [
    "tt = pd.read_csv(r\"C:\\Users\\Yow-Gwo Wang\\Desktop\\ML\\machine-learning-ex2\\machine-learning-ex2\\ex2\\ex2data1.txt\", header=None)\n",
    "tt0 = tt[tt[2]==0]\n",
    "tt1 = tt[tt[2]==1]\n",
    "tt.columns = ['score0', 'score1', 'Admit?']\n",
    "plt.plot(tt1[0].tolist(), tt1[1].tolist(), 'k+', label='Admit')\n",
    "plt.plot(tt0[0].tolist(), tt0[1].tolist(), 'yo', label='Not-admit')\n",
    "plt.legend()\n",
    "# m = len(tt[0].tolist())\n",
    "# plt.xlabel('Population in 10,000s')\n",
    "# plt.ylabel('Profit in $10,000s')\n"
   ]
  },
  {
   "cell_type": "code",
   "execution_count": 85,
   "metadata": {},
   "outputs": [],
   "source": [
    "def sigmoid(x):\n",
    "    #z = np.dot(theta.transpose(), X)\n",
    "    g = 1/(1 + np.exp(-x))\n",
    "    return g"
   ]
  },
  {
   "cell_type": "code",
   "execution_count": 36,
   "metadata": {},
   "outputs": [
    {
     "data": {
      "text/plain": [
       "array([[0.5]])"
      ]
     },
     "execution_count": 36,
     "metadata": {},
     "output_type": "execute_result"
    }
   ],
   "source": [
    "theta = np.zeros((2,1))\n",
    "X = theta\n",
    "sigmoid(theta, X)"
   ]
  },
  {
   "cell_type": "code",
   "execution_count": 237,
   "metadata": {},
   "outputs": [],
   "source": [
    "def costFunction(theta, X, y):\n",
    "    J = 0\n",
    "    m = y.size\n",
    "    delta_J = np.zeros(X.shape[0])\n",
    "    x = np.dot(theta.transpose(), X)\n",
    "    b = (-y)*np.log(sigmoid(x))-(1-y)*np.log(1-sigmoid(x))\n",
    "    J = 1/m*b.sum()\n",
    "    tmp = (sigmoid(x) - y)\n",
    "    for i in range(X.shape[0]):\n",
    "        delta_J[i] = 1/m*(np.multiply(tmp, X[i])).sum()\n",
    "    return J, delta_J"
   ]
  },
  {
   "cell_type": "code",
   "execution_count": 289,
   "metadata": {},
   "outputs": [],
   "source": [
    "X = np.array([np.ones(len(tt)).tolist(), tt['score0'].tolist(), tt['score1'].tolist()])\n",
    "y = np.array([tt['Admit?'].tolist()])\n",
    "initial_theta = np.zeros((3,1))\n"
   ]
  },
  {
   "cell_type": "code",
   "execution_count": 290,
   "metadata": {},
   "outputs": [
    {
     "name": "stdout",
     "output_type": "stream",
     "text": [
      "0.6931471805599453\n",
      "[ -0.1        -12.00921659 -11.26284221]\n"
     ]
    }
   ],
   "source": [
    "[cost, grad] = costFunction(initial_theta, X, y)\n",
    "print(cost)\n",
    "print(grad)"
   ]
  },
  {
   "cell_type": "code",
   "execution_count": 277,
   "metadata": {},
   "outputs": [],
   "source": [
    "X = np.array([np.ones(len(tt)).tolist(), tt['score0'].tolist(), tt['score1'].tolist()])\n",
    "y = np.array([tt['Admit?'].tolist()])\n",
    "initial_theta = np.zeros((3,1))\n"
   ]
  },
  {
   "cell_type": "code",
   "execution_count": 278,
   "metadata": {},
   "outputs": [],
   "source": [
    "def costFunc(theta, X, y):\n",
    "    J = 0\n",
    "    m = y.size\n",
    "    delta_J = np.zeros(X.shape[0])\n",
    "    x = np.dot(theta.transpose(), X)\n",
    "    b = (-y)*np.log(sigmoid(x))-(1-y)*np.log(1-sigmoid(x))\n",
    "    J = 1/m*b.sum()\n",
    "    return J"
   ]
  },
  {
   "cell_type": "code",
   "execution_count": 308,
   "metadata": {},
   "outputs": [],
   "source": [
    "def Grad(theta, X, y):\n",
    "    m = y.size\n",
    "    delta_J = np.zeros(X.shape[0])\n",
    "    x = np.dot(theta.transpose(), X)\n",
    "    tmp = (sigmoid(x) - y)\n",
    "    for i in range(X.shape[0]):\n",
    "        delta_J[i] = 1/m*(np.multiply(tmp, X[i])).sum()\n",
    "    return delta_J"
   ]
  },
  {
   "cell_type": "code",
   "execution_count": 309,
   "metadata": {},
   "outputs": [
    {
     "data": {
      "text/plain": [
       "array([ -0.1       , -12.00921659, -11.26284221])"
      ]
     },
     "execution_count": 309,
     "metadata": {},
     "output_type": "execute_result"
    }
   ],
   "source": [
    "Grad(initial_theta, X, y)"
   ]
  },
  {
   "cell_type": "code",
   "execution_count": 310,
   "metadata": {},
   "outputs": [
    {
     "data": {
      "text/plain": [
       "(array([-25.16131854,   0.20623159,   0.20147149]), 36, 0)"
      ]
     },
     "execution_count": 310,
     "metadata": {},
     "output_type": "execute_result"
    }
   ],
   "source": [
    "result = opt.fmin_tnc(func=costFunc, x0=initial_theta, fprime=Grad, args=(X, y))  \n",
    "result"
   ]
  },
  {
   "cell_type": "code",
   "execution_count": 311,
   "metadata": {},
   "outputs": [
    {
     "data": {
      "text/plain": [
       "0.20349770158947494"
      ]
     },
     "execution_count": 311,
     "metadata": {},
     "output_type": "execute_result"
    }
   ],
   "source": [
    "costFunc(result[0], X, y)  "
   ]
  },
  {
   "cell_type": "code",
   "execution_count": 342,
   "metadata": {},
   "outputs": [
    {
     "name": "stdout",
     "output_type": "stream",
     "text": [
      "accuracy = 89%\n"
     ]
    }
   ],
   "source": [
    "def predict(theta, X):  \n",
    "    prob = sigmoid(np.dot(theta.transpose(),X))\n",
    "    return [1 if x >= 0.5 else 0 for x in prob]\n",
    "\n",
    "theta_min = np.array(result[0])  \n",
    "predictions = predict(theta_min, X)  \n",
    "correct = [1 if ((a == 1 and b == 1) or (a == 0 and b == 0)) else 0 for (a, b) in zip(predictions, y.transpose())]  \n",
    "accuracy = (sum(map(int, correct)) % len(correct))  \n",
    "print('accuracy = {0}%'.format(accuracy))\n"
   ]
  },
  {
   "cell_type": "code",
   "execution_count": 363,
   "metadata": {},
   "outputs": [],
   "source": [
    "#To plot the decision boundary, h>0 => theta.transpose()*X >0\n",
    "#the decision boundary is the line for h(x) = 0\n",
    "#To calculate 2 sets of (x1,x2), using the theta_min as the hint\n",
    "x2_1 = (-theta_min[0] - theta_min[1]*30)/theta_min[2]\n",
    "x2_2 = (-theta_min[0] - theta_min[1]*100)/theta_min[2]"
   ]
  },
  {
   "cell_type": "code",
   "execution_count": 364,
   "metadata": {},
   "outputs": [
    {
     "data": {
      "text/plain": [
       "Text(0,0.5,'score1')"
      ]
     },
     "execution_count": 364,
     "metadata": {},
     "output_type": "execute_result"
    },
    {
     "data": {
      "image/png": "[encoded data removed]",
      "text/plain": [
       "<Figure size 432x288 with 1 Axes>"
      ]
     },
     "metadata": {},
     "output_type": "display_data"
    }
   ],
   "source": [
    "plt.plot([30, 100], [x2_1, x2_2])\n",
    "plt.plot(tt1[0].tolist(), tt1[1].tolist(), 'k+', label='Admit')\n",
    "plt.plot(tt0[0].tolist(), tt0[1].tolist(), 'yo', label='Not-admit')\n",
    "plt.legend()\n",
    "plt.xlabel('score0')\n",
    "plt.ylabel('score1')"
   ]
  },
  {
   "cell_type": "code",
   "execution_count": 365,
   "metadata": {},
   "outputs": [
    {
     "data": {
      "text/plain": [
       "<matplotlib.legend.Legend at 0x4bfba1bdd8>"
      ]
     },
     "execution_count": 365,
     "metadata": {},
     "output_type": "execute_result"
    },
    {
     "data": {
      "image/png": "[encoded data removed]",
      "text/plain": [
       "<Figure size 432x288 with 1 Axes>"
      ]
     },
     "metadata": {},
     "output_type": "display_data"
    }
   ],
   "source": [
    "tt = pd.read_csv(r\"C:\\Users\\Yow-Gwo Wang\\Desktop\\ML\\machine-learning-ex2\\machine-learning-ex2\\ex2\\ex2data2.txt\", header=None)\n",
    "tt0 = tt[tt[2]==0]\n",
    "tt1 = tt[tt[2]==1]\n",
    "tt.columns = ['score0', 'score1', 'Admit?']\n",
    "plt.plot(tt1[0].tolist(), tt1[1].tolist(), 'k+', label='Admit')\n",
    "plt.plot(tt0[0].tolist(), tt0[1].tolist(), 'yo', label='Not-admit')\n",
    "plt.legend()\n",
    "# m = len(tt[0].tolist())\n",
    "# plt.xlabel('Population in 10,000s')\n",
    "# plt.ylabel('Profit in $10,000s')\n"
   ]
  },
  {
   "cell_type": "code",
   "execution_count": 706,
   "metadata": {},
   "outputs": [],
   "source": [
    "def mapFeature(X1, X2, degree):\n",
    "    #e_size = 1\n",
    "    e_size = X1.size\n",
    "    out = np.ones((e_size))\n",
    "    #print(out.shape)\n",
    "    for i in range(1,degree+1):\n",
    "        for j in range(i+1):\n",
    "            new = np.multiply(np.power(X1,(i-j)),np.power(X2,j))\n",
    "            out = np.vstack([out, new])\n",
    "    return out"
   ]
  },
  {
   "cell_type": "code",
   "execution_count": 603,
   "metadata": {},
   "outputs": [],
   "source": [
    "def costFunctionReg(theta, X, y, lamdba):\n",
    "    J = 0\n",
    "    m = y.size\n",
    "    delta_J = np.zeros(X.shape[0])\n",
    "    x = np.dot(theta.transpose(), X)\n",
    "    b = (-y)*np.log(sigmoid(x))-(1-y)*np.log(1-sigmoid(x))\n",
    "    c = lamdba/(2*m)*(np.square(theta).sum() - np.square(theta[0]))\n",
    "    J = 1/m*b.sum()+c\n",
    "    tmp = (sigmoid(x) - y)\n",
    "    for j in (range(1, X.shape[0]-1)):\n",
    "        delta_J[j] = 1/m*(np.multiply(tmp, X[j])).sum()+(lamdba/m*theta[j])\n",
    "    delta_J[0] = 1/m*(np.multiply(tmp, X[0])).sum()\n",
    "    return J"
   ]
  },
  {
   "cell_type": "code",
   "execution_count": 596,
   "metadata": {},
   "outputs": [],
   "source": [
    "def GradReg(theta, X, y, lamdba):\n",
    "    J = 0\n",
    "    m = y.size\n",
    "    delta_J = np.zeros(X.shape[0])\n",
    "    x = np.dot(theta.transpose(), X)\n",
    "    b = (-y)*np.log(sigmoid(x))-(1-y)*np.log(1-sigmoid(x))\n",
    "    c = lamdba/(2*m)*(np.square(theta).sum() - np.square(theta[0]))\n",
    "    J = 1/m*b.sum()+c\n",
    "    tmp = (sigmoid(x) - y)\n",
    "    for j in (range(1, X.shape[0]-1)):\n",
    "        delta_J[j] = 1/m*(np.multiply(tmp, X[j])).sum()+(lamdba/m*theta[j])\n",
    "    delta_J[0] = 1/m*(np.multiply(tmp, X[0])).sum()\n",
    "    return delta_J"
   ]
  },
  {
   "cell_type": "code",
   "execution_count": 707,
   "metadata": {},
   "outputs": [
    {
     "name": "stderr",
     "output_type": "stream",
     "text": [
      "C:\\Users\\Yow-Gwo Wang\\Anaconda3\\lib\\site-packages\\ipykernel_launcher.py:2: FutureWarning: Method .as_matrix will be removed in a future version. Use .values instead.\n",
      "  \n"
     ]
    }
   ],
   "source": [
    "#setup the input variable\n",
    "numpy_matrix = tt.as_matrix()\n",
    "X = mapFeature(numpy_matrix[:,0], numpy_matrix[:,1], 6)\n",
    "initial_theta=np.zeros(X.shape[0])\n",
    "lamdba = 1\n",
    "y = numpy_matrix[:,2]"
   ]
  },
  {
   "cell_type": "code",
   "execution_count": 599,
   "metadata": {},
   "outputs": [],
   "source": [
    "#calculate the cost function with learning rate = 1\n",
    "j, delta_J= costFunctionReg(initial_theta, X, y, 1)"
   ]
  },
  {
   "cell_type": "code",
   "execution_count": 600,
   "metadata": {},
   "outputs": [
    {
     "name": "stdout",
     "output_type": "stream",
     "text": [
      "0.6931471805599454\n",
      "[8.47457627e-03 1.87880932e-02 7.77711864e-05 5.03446395e-02\n",
      " 1.15013308e-02]\n"
     ]
    }
   ],
   "source": [
    "#cost function and the gradiant of the cost function for the  first 5 terms\n",
    "print(j)\n",
    "print(delta_J[0:5])"
   ]
  },
  {
   "cell_type": "code",
   "execution_count": 601,
   "metadata": {},
   "outputs": [],
   "source": [
    "#calculate the cost function with learning rate = 10 & test theta\n",
    "test_theta=np.ones(X.shape[0])\n",
    "j, delta_J= costFunctionReg(test_theta, X, y, 10)\n",
    "#j"
   ]
  },
  {
   "cell_type": "code",
   "execution_count": 602,
   "metadata": {},
   "outputs": [
    {
     "name": "stdout",
     "output_type": "stream",
     "text": [
      "3.1645093316150095\n",
      "[0.34604507 0.16135192 0.19479576 0.22686278 0.09218568]\n"
     ]
    }
   ],
   "source": [
    "#cost function and the gradiant of the cost function for the  first 5 terms\n",
    "print(j)\n",
    "print(delta_J[0:5])"
   ]
  },
  {
   "cell_type": "code",
   "execution_count": 697,
   "metadata": {},
   "outputs": [
    {
     "name": "stdout",
     "output_type": "stream",
     "text": [
      "0.5335419192246618\n"
     ]
    }
   ],
   "source": [
    "#Use fmin_tnc find optimum results\n",
    "result = opt.fmin_tnc(func=costFunctionReg, x0=initial_theta, fprime=GradReg, args=(X, y, lamdba))  \n",
    "#The lowest cost with optimum results\n",
    "minJ = costFunctionReg(result[0], X, y, lamdba)  \n",
    "print(minJ)"
   ]
  },
  {
   "cell_type": "code",
   "execution_count": 698,
   "metadata": {},
   "outputs": [],
   "source": [
    "#visiulize the results:\n",
    "v = np.linspace(-2, 2, 100)\n",
    "u = np.linspace(-2, 2, 100)\n",
    "theta_min = np.array(result[0])"
   ]
  },
  {
   "cell_type": "code",
   "execution_count": 699,
   "metadata": {},
   "outputs": [],
   "source": [
    "z = np.zeros((len(u), len(v)))"
   ]
  },
  {
   "cell_type": "code",
   "execution_count": 708,
   "metadata": {},
   "outputs": [],
   "source": [
    "for i in range(len(v)):\n",
    "    for j in range(len(u)):\n",
    "        z[i, j] = np.dot(mapFeature(np.array((v[i])), np.array((u[j])), 6).transpose(), theta_min)\n"
   ]
  },
  {
   "cell_type": "code",
   "execution_count": 709,
   "metadata": {},
   "outputs": [
    {
     "data": {
      "text/plain": [
       "(-0.9, 1.2)"
      ]
     },
     "execution_count": 709,
     "metadata": {},
     "output_type": "execute_result"
    },
    {
     "data": {
      "image/png": "[encoded data removed]",
      "text/plain": [
       "<Figure size 432x288 with 1 Axes>"
      ]
     },
     "metadata": {},
     "output_type": "display_data"
    }
   ],
   "source": [
    "#Visualize the results with Decision boundary\n",
    "tt = pd.read_csv(r\"C:\\Users\\Yow-Gwo Wang\\Desktop\\ML\\machine-learning-ex2\\machine-learning-ex2\\ex2\\ex2data2.txt\", header=None)\n",
    "tt0 = tt[tt[2]==0]\n",
    "tt1 = tt[tt[2]==1]\n",
    "tt.columns = ['score0', 'score1', 'Admit?']\n",
    "plt.plot(tt1[0].tolist(), tt1[1].tolist(), 'k+', label='Admit')\n",
    "plt.plot(tt0[0].tolist(), tt0[1].tolist(), 'yo', label='Not-admit')\n",
    "plt.legend()\n",
    "plt.contour(u, v, z, 0)\n",
    "plt.xlim(-0.9, 1.2)\n",
    "plt.ylim(-0.9, 1.2)\n",
    "\n"
   ]
  },
  {
   "cell_type": "code",
   "execution_count": 720,
   "metadata": {},
   "outputs": [
    {
     "name": "stdout",
     "output_type": "stream",
     "text": [
      "0.29891074787339894\n"
     ]
    }
   ],
   "source": [
    "#overfitting\n",
    "#Use fmin_tnc find optimum results\n",
    "lamdba=0.0005\n",
    "result = opt.fmin_tnc(func=costFunctionReg, x0=initial_theta, fprime=GradReg, args=(X, y, lamdba))  \n",
    "#The lowest cost with optimum results\n",
    "minJ = costFunctionReg(result[0], X, y, lamdba)  \n",
    "print(minJ)"
   ]
  },
  {
   "cell_type": "code",
   "execution_count": 721,
   "metadata": {},
   "outputs": [
    {
     "data": {
      "text/plain": [
       "Text(0.5,1,'overfit with learning = 0.0005')"
      ]
     },
     "execution_count": 721,
     "metadata": {},
     "output_type": "execute_result"
    },
    {
     "data": {
      "image/png": "[encoded data removed]",
      "text/plain": [
       "<Figure size 432x288 with 1 Axes>"
      ]
     },
     "metadata": {},
     "output_type": "display_data"
    }
   ],
   "source": [
    "#visiulize the results:\n",
    "v = np.linspace(-2, 2, 100)\n",
    "u = np.linspace(-2, 2, 100)\n",
    "theta_min = np.array(result[0])\n",
    "z = np.zeros((len(u), len(v)))\n",
    "for i in range(len(v)):\n",
    "    for j in range(len(u)):\n",
    "        z[i, j] = np.dot(mapFeature(np.array((v[i])), np.array((u[j])), 6).transpose(), theta_min)\n",
    "\n",
    "#Visualize the results with Decision boundary\n",
    "tt = pd.read_csv(r\"C:\\Users\\Yow-Gwo Wang\\Desktop\\ML\\machine-learning-ex2\\machine-learning-ex2\\ex2\\ex2data2.txt\", header=None)\n",
    "tt0 = tt[tt[2]==0]\n",
    "tt1 = tt[tt[2]==1]\n",
    "tt.columns = ['score0', 'score1', 'Admit?']\n",
    "plt.plot(tt1[0].tolist(), tt1[1].tolist(), 'k+', label='Admit')\n",
    "plt.plot(tt0[0].tolist(), tt0[1].tolist(), 'yo', label='Not-admit')\n",
    "plt.legend()\n",
    "plt.contour(u, v, z, 0)\n",
    "plt.xlim(-0.9, 1.2)\n",
    "plt.ylim(-0.9, 1.2)\n",
    "plt.title('overfit with learning = 0.0005')\n"
   ]
  },
  {
   "cell_type": "code",
   "execution_count": 722,
   "metadata": {},
   "outputs": [
    {
     "name": "stdout",
     "output_type": "stream",
     "text": [
      "0.6872156582591483\n"
     ]
    }
   ],
   "source": [
    "#underfitting\n",
    "#Use fmin_tnc find optimum results\n",
    "lamdba=100\n",
    "result = opt.fmin_tnc(func=costFunctionReg, x0=initial_theta, fprime=GradReg, args=(X, y, lamdba))  \n",
    "#The lowest cost with optimum results\n",
    "minJ = costFunctionReg(result[0], X, y, lamdba)  \n",
    "print(minJ)"
   ]
  },
  {
   "cell_type": "code",
   "execution_count": 723,
   "metadata": {},
   "outputs": [
    {
     "data": {
      "text/plain": [
       "Text(0.5,1,'underfitting with learning = 100')"
      ]
     },
     "execution_count": 723,
     "metadata": {},
     "output_type": "execute_result"
    },
    {
     "data": {
      "image/png": "[encoded data removed]",
      "text/plain": [
       "<Figure size 432x288 with 1 Axes>"
      ]
     },
     "metadata": {},
     "output_type": "display_data"
    }
   ],
   "source": [
    "#visiulize the results:\n",
    "v = np.linspace(-2, 2, 100)\n",
    "u = np.linspace(-2, 2, 100)\n",
    "theta_min = np.array(result[0])\n",
    "z = np.zeros((len(u), len(v)))\n",
    "for i in range(len(v)):\n",
    "    for j in range(len(u)):\n",
    "        z[i, j] = np.dot(mapFeature(np.array((v[i])), np.array((u[j])), 6).transpose(), theta_min)\n",
    "\n",
    "#Visualize the results with Decision boundary\n",
    "tt = pd.read_csv(r\"C:\\Users\\Yow-Gwo Wang\\Desktop\\ML\\machine-learning-ex2\\machine-learning-ex2\\ex2\\ex2data2.txt\", header=None)\n",
    "tt0 = tt[tt[2]==0]\n",
    "tt1 = tt[tt[2]==1]\n",
    "tt.columns = ['score0', 'score1', 'Admit?']\n",
    "plt.plot(tt1[0].tolist(), tt1[1].tolist(), 'k+', label='Admit')\n",
    "plt.plot(tt0[0].tolist(), tt0[1].tolist(), 'yo', label='Not-admit')\n",
    "plt.legend()\n",
    "plt.contour(u, v, z, 0)\n",
    "plt.xlim(-0.9, 1.2)\n",
    "plt.ylim(-0.9, 1.2)\n",
    "plt.title('underfitting with learning = 100')\n"
   ]
  },
  {
   "cell_type": "code",
   "execution_count": null,
   "metadata": {},
   "outputs": [],
   "source": []
  }
 ],
 "metadata": {
  "kernelspec": {
   "display_name": "Python 3",
   "language": "python",
   "name": "python3"
  },
  "language_info": {
   "codemirror_mode": {
    "name": "ipython",
    "version": 3
   },
   "file_extension": ".py",
   "mimetype": "text/x-python",
   "name": "python",
   "nbconvert_exporter": "python",
   "pygments_lexer": "ipython3",
   "version": "3.6.5"
  }
 },
 "nbformat": 4,
 "nbformat_minor": 2
}

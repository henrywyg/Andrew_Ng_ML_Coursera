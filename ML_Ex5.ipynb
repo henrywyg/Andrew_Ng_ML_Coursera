{
 "cells": [
  {
   "cell_type": "code",
   "execution_count": null,
   "metadata": {},
   "outputs": [],
   "source": [
    "#This is for ML Ex5"
   ]
  },
  {
   "cell_type": "code",
   "execution_count": 1,
   "metadata": {},
   "outputs": [],
   "source": [
    "import pandas as pd\n",
    "import numpy as np\n",
    "import os\n",
    "from matplotlib import pyplot as plt\n",
    "from scipy import optimize as opt\n",
    "import scipy.io\n",
    "import random"
   ]
  },
  {
   "cell_type": "code",
   "execution_count": 789,
   "metadata": {},
   "outputs": [
    {
     "data": {
      "text/plain": [
       "{'__header__': b'MATLAB 5.0 MAT-file, Platform: GLNXA64, Created on: Fri Nov  4 22:27:26 2011',\n",
       " '__version__': '1.0',\n",
       " '__globals__': [],\n",
       " 'X': array([[-15.93675813],\n",
       "        [-29.15297922],\n",
       "        [ 36.18954863],\n",
       "        [ 37.49218733],\n",
       "        [-48.05882945],\n",
       "        [ -8.94145794],\n",
       "        [ 15.30779289],\n",
       "        [-34.70626581],\n",
       "        [  1.38915437],\n",
       "        [-44.38375985],\n",
       "        [  7.01350208],\n",
       "        [ 22.76274892]]),\n",
       " 'y': array([[ 2.13431051],\n",
       "        [ 1.17325668],\n",
       "        [34.35910918],\n",
       "        [36.83795516],\n",
       "        [ 2.80896507],\n",
       "        [ 2.12107248],\n",
       "        [14.71026831],\n",
       "        [ 2.61418439],\n",
       "        [ 3.74017167],\n",
       "        [ 3.73169131],\n",
       "        [ 7.62765885],\n",
       "        [22.7524283 ]]),\n",
       " 'Xtest': array([[-33.31800399],\n",
       "        [-37.91216403],\n",
       "        [-51.20693795],\n",
       "        [ -6.13259585],\n",
       "        [ 21.26118327],\n",
       "        [-40.31952949],\n",
       "        [-14.54153167],\n",
       "        [ 32.55976024],\n",
       "        [ 13.39343255],\n",
       "        [ 44.20988595],\n",
       "        [ -1.14267768],\n",
       "        [-12.76686065],\n",
       "        [ 34.05450539],\n",
       "        [ 39.22350028],\n",
       "        [  1.97449674],\n",
       "        [ 29.6217551 ],\n",
       "        [-23.66962971],\n",
       "        [ -9.01180139],\n",
       "        [-55.94057091],\n",
       "        [-35.70859752],\n",
       "        [  9.51020533]]),\n",
       " 'ytest': array([[ 3.31688953],\n",
       "        [ 5.39768952],\n",
       "        [ 0.13042984],\n",
       "        [ 6.1925982 ],\n",
       "        [17.08848712],\n",
       "        [ 0.79950805],\n",
       "        [ 2.82479183],\n",
       "        [28.62123334],\n",
       "        [17.04639081],\n",
       "        [55.38437334],\n",
       "        [ 4.07936733],\n",
       "        [ 8.27039793],\n",
       "        [31.32355102],\n",
       "        [39.15906103],\n",
       "        [ 8.08727989],\n",
       "        [24.11134389],\n",
       "        [ 2.4773548 ],\n",
       "        [ 6.56606472],\n",
       "        [ 6.0380888 ],\n",
       "        [ 4.69273956],\n",
       "        [10.83004606]]),\n",
       " 'Xval': array([[-16.74653578],\n",
       "        [-14.57747075],\n",
       "        [ 34.51575866],\n",
       "        [-47.01007574],\n",
       "        [ 36.97511905],\n",
       "        [-40.68611002],\n",
       "        [ -4.47201098],\n",
       "        [ 26.53363489],\n",
       "        [-42.7976831 ],\n",
       "        [ 25.37409938],\n",
       "        [-31.10955398],\n",
       "        [ 27.31176864],\n",
       "        [ -3.26386201],\n",
       "        [ -1.81827649],\n",
       "        [-40.7196624 ],\n",
       "        [-50.01324365],\n",
       "        [-17.41177155],\n",
       "        [  3.5881937 ],\n",
       "        [  7.08548026],\n",
       "        [ 46.28236902],\n",
       "        [ 14.61228909]]),\n",
       " 'yval': array([[ 4.17020201e+00],\n",
       "        [ 4.06726280e+00],\n",
       "        [ 3.18730676e+01],\n",
       "        [ 1.06236562e+01],\n",
       "        [ 3.18360213e+01],\n",
       "        [ 4.95936972e+00],\n",
       "        [ 4.45159880e+00],\n",
       "        [ 2.22763185e+01],\n",
       "        [-4.38738274e-05],\n",
       "        [ 2.05038016e+01],\n",
       "        [ 3.85834476e+00],\n",
       "        [ 1.93650529e+01],\n",
       "        [ 4.88376281e+00],\n",
       "        [ 1.10971588e+01],\n",
       "        [ 7.46170827e+00],\n",
       "        [ 1.47693464e+00],\n",
       "        [ 2.71916388e+00],\n",
       "        [ 1.09269007e+01],\n",
       "        [ 8.34871235e+00],\n",
       "        [ 5.27819280e+01],\n",
       "        [ 1.33573396e+01]])}"
      ]
     },
     "execution_count": 789,
     "metadata": {},
     "output_type": "execute_result"
    }
   ],
   "source": [
    "#InputData image & weights\n",
    "input_data = scipy.io.loadmat(r\"C:\\Users\\Yow-Gwo Wang\\Desktop\\ML\\machine-learning-ex5\\machine-learning-ex5\\ex5\\ex5data1.mat\")\n",
    "input_data"
   ]
  },
  {
   "cell_type": "code",
   "execution_count": 809,
   "metadata": {},
   "outputs": [
    {
     "data": {
      "text/plain": [
       "Text(0,0.5,'Water flowing out of the dem')"
      ]
     },
     "execution_count": 809,
     "metadata": {},
     "output_type": "execute_result"
    },
    {
     "data": {
      "image/png": "[encoded data removed]",
      "text/plain": [
       "<Figure size 432x288 with 1 Axes>"
      ]
     },
     "metadata": {},
     "output_type": "display_data"
    }
   ],
   "source": [
    "#read in the data set for this exercise\n",
    "X = input_data['X']\n",
    "y = input_data['y']\n",
    "Xval = input_data['Xval']\n",
    "yval = input_data['yval']\n",
    "Xtest = input_data['Xtest']\n",
    "ytest = input_data['ytest']\n",
    "plt.plot(X, y, '.')\n",
    "plt.xlabel('Change in water level')\n",
    "plt.ylabel('Water flowing out of the dem')"
   ]
  },
  {
   "cell_type": "code",
   "execution_count": 785,
   "metadata": {},
   "outputs": [],
   "source": [
    "def lrCostFunction(theta, X, y, lamdba):\n",
    "    theta = theta.reshape(X.shape[1],1)\n",
    "    J = 0\n",
    "    delta_J = np.zeros(X.shape[1])\n",
    "    m = y.size\n",
    "    x = np.dot(X, theta)\n",
    "    a = 1/(2*m)\n",
    "    b = np.square(x - y)\n",
    "    c = lamdba/(2*m)*(np.square(theta).sum() - np.square(theta[0]))\n",
    "    d = (x-y)\n",
    "    e = lamdba/m*(theta)\n",
    "    \n",
    "    J = a*b.sum()+c\n",
    "    delta_J = 2*a*np.dot(X.transpose(), d)+e    \n",
    "    delta_J[0] = delta_J[0] - (lamdba/m*(theta[0])) \n",
    "\n",
    "    return J, delta_J"
   ]
  },
  {
   "cell_type": "code",
   "execution_count": 810,
   "metadata": {},
   "outputs": [
    {
     "name": "stdout",
     "output_type": "stream",
     "text": [
      "[303.99319222]\n",
      "[[-15.30301567]\n",
      " [598.25074417]]\n"
     ]
    }
   ],
   "source": [
    "#Verify the linearRegrssion cost function\n",
    "theta_init = np.row_stack((1,1))\n",
    "theta_init.shape\n",
    "X_t = np.column_stack((np.ones(12), X))\n",
    "j, delta_j = lrCostFunction(theta_init, X_t, y, 1)\n",
    "print(j)\n",
    "print(delta_j)"
   ]
  },
  {
   "cell_type": "code",
   "execution_count": 812,
   "metadata": {},
   "outputs": [
    {
     "data": {
      "text/plain": [
       "<matplotlib.legend.Legend at 0x99e733f358>"
      ]
     },
     "execution_count": 812,
     "metadata": {},
     "output_type": "execute_result"
    },
    {
     "data": {
      "image/png": "[encoded data removed]",
      "text/plain": [
       "<Figure size 432x288 with 1 Axes>"
      ]
     },
     "metadata": {},
     "output_type": "display_data"
    }
   ],
   "source": [
    "#Using the only feature from the input to do linear fit\n",
    "result = opt.minimize(fun=lrCostFunction, x0=theta_init, args=(X_t, y, 100), \n",
    "                      method='TNC', jac=True, options={'maxiter': 1000})\n",
    "theta = np.matrix(result.x)\n",
    "theta = theta.reshape(2,1)\n",
    "\n",
    "plt.plot(X, y, '.', label='data')\n",
    "plt.xlabel('Change in water level')\n",
    "plt.ylabel('Water flowing out of the dem')\n",
    "plt.plot(X, np.dot(X_t,theta), label='linear prediction')\n",
    "plt.xlim([-50,40])\n",
    "plt.ylim([-5,40])\n",
    "plt.legend()"
   ]
  },
  {
   "cell_type": "code",
   "execution_count": 813,
   "metadata": {},
   "outputs": [],
   "source": [
    "def learningCurve(Xin, yin, X_in_val, y_in_val, lamdba):\n",
    "    m = X.shape[0]\n",
    "    error_train = np.zeros(Xin.shape[0]-1)\n",
    "    error_val = np.zeros(Xin.shape[0]-1)\n",
    "    for idx in range(1,m):\n",
    "        X_t_sub = Xin[0:idx,:]\n",
    "        y_t_sub = yin[0:idx,:]\n",
    "        theta_init = np.column_stack(np.zeros(X_t_sub.shape[1]))\n",
    "        result = opt.minimize(fun=lrCostFunction, x0=theta_init, args=(X_t_sub, y_t_sub, lamdba), \n",
    "                method='TNC', jac=True, options={'maxiter': 1000})\n",
    "        theta = np.matrix(result.x)\n",
    "        error_train[idx-1], _ = lrCostFunction(theta, X_t_sub, y_t_sub, 0)\n",
    "        error_val[idx-1], _ = lrCostFunction(theta, X_in_val, y_in_val, lamdba)\n",
    "    return error_train, error_val"
   ]
  },
  {
   "cell_type": "code",
   "execution_count": 817,
   "metadata": {},
   "outputs": [
    {
     "data": {
      "text/plain": [
       "Text(0,0.5,'error')"
      ]
     },
     "execution_count": 817,
     "metadata": {},
     "output_type": "execute_result"
    },
    {
     "data": {
      "image/png": "[encoded data removed]",
      "text/plain": [
       "<Figure size 432x288 with 1 Axes>"
      ]
     },
     "metadata": {},
     "output_type": "display_data"
    }
   ],
   "source": [
    "#Shoing the impact of training data size on training error and validatoin error\n",
    "#More data has higher training error means the model has high bias\n",
    "X_t = np.column_stack((np.ones(X.shape[0]), X))\n",
    "X_val_t = np.column_stack((np.ones(Xval.shape[0]), Xval))\n",
    "err_t, err_v = learningCurve(X_t, y, X_val_t, yval, 10)\n",
    "plt.plot(x_idx, err_t, 'x', label='error_training')\n",
    "plt.plot(x_idx, err_v, '.', label='error_validation')\n",
    "plt.legend()\n",
    "plt.xlabel('training_data_size')\n",
    "plt.ylabel('error')"
   ]
  },
  {
   "cell_type": "code",
   "execution_count": 818,
   "metadata": {},
   "outputs": [],
   "source": [
    "def polyFeature(Xin, p):\n",
    "    X_poly = np.zeros((Xin.shape[0],p))\n",
    "    for i in range(p):\n",
    "        X_poly[:, i] = np.power(Xin[:, 0], i+1)\n",
    "    return X_poly"
   ]
  },
  {
   "cell_type": "code",
   "execution_count": 819,
   "metadata": {},
   "outputs": [],
   "source": [
    "def featureNormalize(Xin):\n",
    "    col = Xin.shape[1]\n",
    "    X_norm = Xin.copy()\n",
    "    mu = np.zeros((col, 1))\n",
    "    sigma = np.zeros((col, 1))\n",
    "    \n",
    "    for idx in range(col):\n",
    "        mu[idx] = Xin[:,idx].mean()\n",
    "        sigma[idx] = Xin[:,idx].std()\n",
    "        X_norm[:,idx] = (Xin[:,idx] - Xin[:,idx].mean())/Xin[:,idx].std()\n",
    "\n",
    "    return X_norm, mu, sigma"
   ]
  },
  {
   "cell_type": "code",
   "execution_count": 820,
   "metadata": {},
   "outputs": [],
   "source": [
    "X = input_data['X']\n",
    "y = input_data['y']\n",
    "Xval = input_data['Xval']\n",
    "yval = input_data['yval']\n",
    "Xtest = input_data['Xtest']\n",
    "ytest = input_data['ytest']\n",
    "X8 = polyFeature(X, 8)\n",
    "X8_norm , _ , _ = featureNormalize(X8)\n",
    "X_t = np.column_stack((np.ones(12), X8_norm))\n",
    "theta_init = np.row_stack(np.ones(X_t.shape[1]))\n",
    "\n",
    "X8_val = polyFeature(Xval, 8)\n",
    "X8_val_norm , _ , _ = featureNormalize(X8_val)\n",
    "\n",
    "X8_test = polyFeature(Xtest, 8)\n",
    "X8_test_norm , _ , _ = featureNormalize(X8_test)"
   ]
  },
  {
   "cell_type": "code",
   "execution_count": 821,
   "metadata": {},
   "outputs": [
    {
     "data": {
      "text/plain": [
       "<matplotlib.legend.Legend at 0x99e72f53c8>"
      ]
     },
     "execution_count": 821,
     "metadata": {},
     "output_type": "execute_result"
    },
    {
     "data": {
      "image/png": "[encoded data removed]",
      "text/plain": [
       "<Figure size 432x288 with 1 Axes>"
      ]
     },
     "metadata": {},
     "output_type": "display_data"
    }
   ],
   "source": [
    "#Using new feature created by us and shows a better fit to the data\n",
    "result = opt.minimize(fun=lrCostFunction, x0=theta_init, args=(X_t, y, 1), \n",
    "                      method='TNC', jac=True, options={'maxiter': 1000})\n",
    "theta = np.matrix(result.x)\n",
    "theta = theta.reshape(9,1)\n",
    "plt.plot(X, y, '.', label='data')\n",
    "plt.title('lambda=1')\n",
    "plt.xlabel('Change in water level')\n",
    "plt.ylabel('Water flowing out of the dem')\n",
    "plt.plot(X, np.dot(X_t,theta),'x' ,label='linear prediction')\n",
    "plt.xlim([-50,40])\n",
    "plt.ylim([-5,40])\n",
    "plt.legend()"
   ]
  },
  {
   "cell_type": "code",
   "execution_count": 822,
   "metadata": {},
   "outputs": [
    {
     "data": {
      "text/plain": [
       "Text(0,0.5,'error')"
      ]
     },
     "execution_count": 822,
     "metadata": {},
     "output_type": "execute_result"
    },
    {
     "data": {
      "image/png": "[encoded data removed]",
      "text/plain": [
       "<Figure size 432x288 with 1 Axes>"
      ]
     },
     "metadata": {},
     "output_type": "display_data"
    }
   ],
   "source": [
    "#Shows the results with more feature, the training error should remain low\n",
    "#while the validation error gets improved\n",
    "X_t = np.column_stack((np.ones(X8_norm.shape[0]), X8_norm))\n",
    "X_val_t = np.column_stack((np.ones(X8_val_norm.shape[0]), X8_val_norm))\n",
    "err_t, err_v = learningCurve(X_t, y, X_val_t, yval, 1)\n",
    "plt.plot(x_idx, err_t, 'x', label='error_training')\n",
    "plt.plot(x_idx, err_v, '.', label='error_validation')\n",
    "plt.legend()\n",
    "plt.title('lambda=1')\n",
    "plt.xlabel('training_data_size')\n",
    "plt.ylabel('error')"
   ]
  },
  {
   "cell_type": "code",
   "execution_count": 823,
   "metadata": {},
   "outputs": [
    {
     "data": {
      "text/plain": [
       "<matplotlib.legend.Legend at 0x99e8806f60>"
      ]
     },
     "execution_count": 823,
     "metadata": {},
     "output_type": "execute_result"
    },
    {
     "data": {
      "image/png": "[encoded data removed]",
      "text/plain": [
       "<Figure size 432x288 with 1 Axes>"
      ]
     },
     "metadata": {},
     "output_type": "display_data"
    }
   ],
   "source": [
    "#shows the impact of regularization\n",
    "result = opt.minimize(fun=lrCostFunction, x0=theta_init, args=(X_t, y, 100), \n",
    "                      method='TNC', jac=True, options={'maxiter': 1000})\n",
    "theta = np.matrix(result.x)\n",
    "theta = theta.reshape(9,1)\n",
    "plt.plot(X, y, '.', label='data')\n",
    "plt.title('lambda=100')\n",
    "plt.xlabel('Change in water level')\n",
    "plt.ylabel('Water flowing out of the dem')\n",
    "plt.plot(X, np.dot(X_t,theta),'x' ,label='linear prediction')\n",
    "plt.xlim([-50,40])\n",
    "plt.ylim([-5,40])\n",
    "plt.legend()"
   ]
  },
  {
   "cell_type": "code",
   "execution_count": 824,
   "metadata": {},
   "outputs": [
    {
     "data": {
      "text/plain": [
       "Text(0,0.5,'error')"
      ]
     },
     "execution_count": 824,
     "metadata": {},
     "output_type": "execute_result"
    },
    {
     "data": {
      "image/png": "[encoded data removed]",
      "text/plain": [
       "<Figure size 432x288 with 1 Axes>"
      ]
     },
     "metadata": {},
     "output_type": "display_data"
    }
   ],
   "source": [
    "#shows the impact of regularization\n",
    "\n",
    "X_t = np.column_stack((np.ones(X8_norm.shape[0]), X8_norm))\n",
    "X_val_t = np.column_stack((np.ones(X8_val_norm.shape[0]), X8_val_norm))\n",
    "err_t, err_v = learningCurve(X_t, y, X_val_t, yval, 100)\n",
    "plt.plot(x_idx, err_t, 'x', label='error_training')\n",
    "plt.plot(x_idx, err_v, '.', label='error_validation')\n",
    "plt.title('lambda=100')\n",
    "plt.legend()\n",
    "plt.xlabel('training_data_size')\n",
    "plt.ylabel('error')"
   ]
  },
  {
   "cell_type": "code",
   "execution_count": 825,
   "metadata": {},
   "outputs": [],
   "source": [
    "def validationCurve(Xin, yin, X_in_val, y_in_val):\n",
    "    m = X.shape[0]\n",
    "    lamdba = np.array((0,0.001,0.003,0.1,0.3,1,3,10))\n",
    "    error_train = np.zeros(lamdba.shape[0])\n",
    "    error_val = np.zeros(lamdba.shape[0])\n",
    "    for idx, l in enumerate(lamdba):\n",
    "        theta_init = np.column_stack(np.zeros(Xin.shape[1]))\n",
    "        result = opt.minimize(fun=lrCostFunction, x0=theta_init, args=(Xin, yin, l), \n",
    "                method='TNC', jac=True, options={'maxiter': 1000})\n",
    "        theta = np.matrix(result.x)\n",
    "        error_train[idx], _ = lrCostFunction(theta, Xin, yin, 0)\n",
    "        error_val[idx], _ = lrCostFunction(theta, X_in_val, y_in_val, l)\n",
    "    return error_train, error_val"
   ]
  },
  {
   "cell_type": "code",
   "execution_count": 826,
   "metadata": {},
   "outputs": [
    {
     "data": {
      "image/png": "[encoded data removed]",
      "text/plain": [
       "<Figure size 432x288 with 1 Axes>"
      ]
     },
     "metadata": {},
     "output_type": "display_data"
    },
    {
     "data": {
      "image/png": "[encoded data removed]",
      "text/plain": [
       "<Figure size 432x288 with 1 Axes>"
      ]
     },
     "metadata": {},
     "output_type": "display_data"
    }
   ],
   "source": [
    "#varying lamdba to find the best regularization variable\n",
    "err_t, err_v = validationCurve(X_t, y, X_val_t, yval)\n",
    "x_l = np.array((0,0.001,0.003,0.1,0.3,1,3,10))\n",
    "plt.plot(x_l, err_t, 'x', label='error_training')\n",
    "plt.plot(x_l, err_v, '.', label='error_validation')\n",
    "plt.legend()\n",
    "plt.xlabel('lambda')\n",
    "plt.ylabel('error')\n",
    "plt.show()\n",
    "\n",
    "plt.plot(x_l, err_t, 'x', label='error_training')\n",
    "plt.plot(x_l, err_v, '.', label='error_validation')\n",
    "plt.legend()\n",
    "plt.xlabel('training_data_size')\n",
    "plt.ylabel('error')\n",
    "plt.xlim([-0.2,4])\n",
    "plt.show()"
   ]
  },
  {
   "cell_type": "code",
   "execution_count": 828,
   "metadata": {},
   "outputs": [
    {
     "name": "stdout",
     "output_type": "stream",
     "text": [
      "[[8.91624243]]\n"
     ]
    }
   ],
   "source": [
    "#Get the test error using the best lambda we found.\n",
    "X_test_t = np.column_stack((np.ones(X8_test_norm.shape[0]), X8_test_norm))\n",
    "result = opt.minimize(fun=lrCostFunction, x0=theta_init, args=(X_t, y, 0.3), \n",
    "                     method='TNC', jac=True, options={'maxiter': 1000})\n",
    "theta = np.matrix(result.x)\n",
    "error_test, grad = lrCostFunction(theta, X_test_t, ytest, 0.3)\n",
    "print(error_test)"
   ]
  }
 ],
 "metadata": {
  "kernelspec": {
   "display_name": "Python 3",
   "language": "python",
   "name": "python3"
  },
  "language_info": {
   "codemirror_mode": {
    "name": "ipython",
    "version": 3
   },
   "file_extension": ".py",
   "mimetype": "text/x-python",
   "name": "python",
   "nbconvert_exporter": "python",
   "pygments_lexer": "ipython3",
   "version": "3.6.5"
  }
 },
 "nbformat": 4,
 "nbformat_minor": 2
}

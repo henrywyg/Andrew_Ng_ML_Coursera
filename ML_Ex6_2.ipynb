{
 "cells": [
  {
   "cell_type": "code",
   "execution_count": 3,
   "metadata": {},
   "outputs": [],
   "source": [
    "#This is the notebook for ML_Ex6_2"
   ]
  },
  {
   "cell_type": "code",
   "execution_count": 104,
   "metadata": {},
   "outputs": [
    {
     "name": "stdout",
     "output_type": "stream",
     "text": [
      "[nltk_data] Downloading package punkt to C:\\Users\\Yow-Gwo\n",
      "[nltk_data]     Wang\\AppData\\Roaming\\nltk_data...\n",
      "[nltk_data]   Unzipping tokenizers\\punkt.zip.\n"
     ]
    },
    {
     "data": {
      "text/plain": [
       "True"
      ]
     },
     "execution_count": 104,
     "metadata": {},
     "output_type": "execute_result"
    }
   ],
   "source": [
    "import pandas as pd\n",
    "import numpy as np\n",
    "import os\n",
    "import re\n",
    "from matplotlib import pyplot as plt\n",
    "from scipy import optimize as opt\n",
    "import scipy.io\n",
    "import random\n",
    "from sklearn import svm\n",
    "from nltk.stem import PorterStemmer\n",
    "from nltk.tokenize import sent_tokenize, word_tokenize\n",
    "import nltk\n",
    "nltk.download('punkt')\n"
   ]
  },
  {
   "cell_type": "code",
   "execution_count": 136,
   "metadata": {},
   "outputs": [
    {
     "data": {
      "text/plain": [
       "['> Anyone knows how much it costs to host a web portal ?\\n',\n",
       " '>\\n',\n",
       " \"Well, it depends on how many visitors you're expecting.\\n\",\n",
       " 'This can be anywhere from less than 10 bucks a month to a couple of $100. \\n',\n",
       " 'You should checkout http://www.rackspace.com/ or perhaps Amazon EC2 \\n',\n",
       " 'if youre running something big..\\n',\n",
       " '\\n',\n",
       " 'To unsubscribe yourself from this mailing list, send an email to:\\n',\n",
       " 'groupname-unsubscribe@egroups.com\\n',\n",
       " '\\n']"
      ]
     },
     "execution_count": 136,
     "metadata": {},
     "output_type": "execute_result"
    }
   ],
   "source": [
    "with open(r\"C:\\Users\\Yow-Gwo Wang\\Desktop\\ML\\machine-learning-ex6\\machine-learning-ex6\\ex6\\emailSample1.txt\", 'r') as f:\n",
    "    email = f.readlines()\n",
    "email"
   ]
  },
  {
   "cell_type": "code",
   "execution_count": 134,
   "metadata": {},
   "outputs": [],
   "source": [
    "with open(r\"C:\\Users\\Yow-Gwo Wang\\Desktop\\ML\\machine-learning-ex6\\machine-learning-ex6\\ex6\\vocab.txt\", 'r') as f:\n",
    "    vocab=f.readlines()\n",
    "    text = re.sub('[0-9]+','',''.join(vocab))\n",
    "    text = re.sub('(http|https)://[^\\s]*', 'httpaddr', text)\n",
    "    text = re.sub('[^\\s]+@[^\\s]+', 'emailaddr', text)\n",
    "    text = re.sub('[$]+', 'dollar', text)\n",
    "    text = re.sub(r\"[,.;@#?!&$]+\\ *\", \" \", text)\n",
    "    text = re.sub('[^a-zA-Z0-9]', ' ', text);\n",
    "    text = re.sub(r\"[,.;@#?!&$]+\\ *\", \" \", text)\n",
    "    text = re.sub(r\"\\s+\", \" \", text)\n",
    "    vocab = text.split()"
   ]
  },
  {
   "cell_type": "code",
   "execution_count": 157,
   "metadata": {},
   "outputs": [],
   "source": [
    "def processEmail(email_contents):\n",
    "    word_indices = []\n",
    "    text = [x.lower() for x in email_contents]\n",
    "    text = re.sub('[0-9]+','number',''.join(text))\n",
    "    text = re.sub('(http|https)://[^\\s]*', 'httpaddr', text)\n",
    "    text = re.sub('[^\\s]+@[^\\s]+', 'emailaddr', text)\n",
    "    text = re.sub('[$]+', 'dollar', text)\n",
    "    text = re.sub(r\"[,.;@#?!&$]+\\ *\", \" \", text)\n",
    "    text = re.sub('[^a-zA-Z0-9]', ' ', text);\n",
    "    text = re.sub(r\"[,.;@#?!&$]+\\ *\", \" \", text)\n",
    "    text = re.sub(r\"\\s+\", \" \", text)\n",
    "    text = text.split(' ')\n",
    "    ps = PorterStemmer()\n",
    "    for idx, word in enumerate(text):\n",
    "        text[idx] = ps1.stem(word)\n",
    "    email_contents = text\n",
    "    \n",
    "    for word in email_contents:\n",
    "        for idx, voc in enumerate(vocab):\n",
    "            if word==voc:\n",
    "                word_indices.append(idx+1)\n",
    "    return word_indices"
   ]
  },
  {
   "cell_type": "code",
   "execution_count": 170,
   "metadata": {},
   "outputs": [],
   "source": [
    "def emailFeatures(word_indices):\n",
    "    x = np.zeros((1899, 1))\n",
    "    for idx in word_indices:\n",
    "        x[idx]=1\n",
    "    \n",
    "    return x"
   ]
  },
  {
   "cell_type": "code",
   "execution_count": 252,
   "metadata": {},
   "outputs": [
    {
     "name": "stdout",
     "output_type": "stream",
     "text": [
      "0.9985\n",
      "0.989\n"
     ]
    },
    {
     "name": "stderr",
     "output_type": "stream",
     "text": [
      "C:\\Users\\Yow-Gwo Wang\\Anaconda3\\lib\\site-packages\\sklearn\\utils\\validation.py:578: DataConversionWarning: A column-vector y was passed when a 1d array was expected. Please change the shape of y to (n_samples, ), for example using ravel().\n",
      "  y = column_or_1d(y, warn=True)\n"
     ]
    }
   ],
   "source": [
    "#Traing your spam prediction model\n",
    "#train score and test score\n",
    "train_email = scipy.io.loadmat(r\"C:\\Users\\Yow-Gwo Wang\\Desktop\\ML\\machine-learning-ex6\\machine-learning-ex6\\ex6\\spamTrain.mat\")\n",
    "test_email = scipy.io.loadmat(r\"C:\\Users\\Yow-Gwo Wang\\Desktop\\ML\\machine-learning-ex6\\machine-learning-ex6\\ex6\\spamTest.mat\")\n",
    "svc = svm.LinearSVC(C=0.1, loss='hinge', max_iter=1000)\n",
    "svc.fit(train_email['X'], train_email['y'])\n",
    "print(svc.score(train_email['X'], train_email['y']))\n",
    "print(svc.score(test_email['Xtest'], test_email['ytest']))\n"
   ]
  },
  {
   "cell_type": "code",
   "execution_count": 249,
   "metadata": {},
   "outputs": [
    {
     "name": "stdout",
     "output_type": "stream",
     "text": [
      "our\n",
      "click\n",
      "remov\n",
      "guarante\n",
      "visit\n",
      "basenumb\n",
      "dollar\n",
      "will\n",
      "price\n",
      "pleas\n",
      "lo\n",
      "nbsp\n",
      "most\n",
      "ga\n",
      "hour\n"
     ]
    }
   ],
   "source": [
    "#Based on the model we traind, which word is likely classfied as spam\n",
    "#Sort the index of the coeficient (which has higher possibility) from the vocab list\n",
    "sorted_indices = np.argsort(svc.coef_, axis=None )[::-1]\n",
    "for idx in sorted_indices[0:15]:\n",
    "    print(vocab[idx])"
   ]
  },
  {
   "cell_type": "code",
   "execution_count": 254,
   "metadata": {},
   "outputs": [
    {
     "data": {
      "text/plain": [
       "array([0], dtype=uint8)"
      ]
     },
     "execution_count": 254,
     "metadata": {},
     "output_type": "execute_result"
    }
   ],
   "source": [
    "#email 1 classfied correctly\n",
    "index = processEmail(email)\n",
    "fe = emailFeatures(index)\n",
    "conf = svc.predict(fe.transpose())\n",
    "conf"
   ]
  },
  {
   "cell_type": "code",
   "execution_count": 251,
   "metadata": {},
   "outputs": [
    {
     "data": {
      "text/plain": [
       "array([0], dtype=uint8)"
      ]
     },
     "execution_count": 251,
     "metadata": {},
     "output_type": "execute_result"
    }
   ],
   "source": [
    "#email 2 classfied correctly\n",
    "with open(r\"C:\\Users\\Yow-Gwo Wang\\Desktop\\ML\\machine-learning-ex6\\machine-learning-ex6\\ex6\\emailSample2.txt\", 'r') as f:\n",
    "    email2 = f.readlines()\n",
    "index2 = processEmail(email2)\n",
    "fe2 = emailFeatures(index2)\n",
    "conf = svc.predict(fe2.transpose())\n",
    "conf"
   ]
  },
  {
   "cell_type": "code",
   "execution_count": 234,
   "metadata": {},
   "outputs": [
    {
     "data": {
      "text/plain": [
       "array([0], dtype=uint8)"
      ]
     },
     "execution_count": 234,
     "metadata": {},
     "output_type": "execute_result"
    }
   ],
   "source": [
    "#spam 1 mis-classfied\n",
    "with open(r\"C:\\Users\\Yow-Gwo Wang\\Desktop\\ML\\machine-learning-ex6\\machine-learning-ex6\\ex6\\spamSample1.txt\", 'r') as f:\n",
    "    spam1 = f.readlines()\n",
    "index2 = processEmail(spam1)\n",
    "fe2 = emailFeatures(index2)\n",
    "conf = svc.predict(fe2.transpose())\n",
    "conf"
   ]
  },
  {
   "cell_type": "code",
   "execution_count": 250,
   "metadata": {},
   "outputs": [
    {
     "data": {
      "text/plain": [
       "array([1], dtype=uint8)"
      ]
     },
     "execution_count": 250,
     "metadata": {},
     "output_type": "execute_result"
    }
   ],
   "source": [
    "#spam 2 classfied correctly\n",
    "with open(r\"C:\\Users\\Yow-Gwo Wang\\Desktop\\ML\\machine-learning-ex6\\machine-learning-ex6\\ex6\\spamSample2.txt\", 'r') as f:\n",
    "    spam2 = f.readlines()\n",
    "index2 = processEmail(spam2)\n",
    "fe2 = emailFeatures(index2)\n",
    "conf = svc.predict(fe2.transpose())\n",
    "conf"
   ]
  }
 ],
 "metadata": {
  "kernelspec": {
   "display_name": "Python 3",
   "language": "python",
   "name": "python3"
  },
  "language_info": {
   "codemirror_mode": {
    "name": "ipython",
    "version": 3
   },
   "file_extension": ".py",
   "mimetype": "text/x-python",
   "name": "python",
   "nbconvert_exporter": "python",
   "pygments_lexer": "ipython3",
   "version": "3.6.5"
  }
 },
 "nbformat": 4,
 "nbformat_minor": 2
}

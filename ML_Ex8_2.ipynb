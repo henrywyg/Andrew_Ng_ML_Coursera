{
 "cells": [
  {
   "cell_type": "code",
   "execution_count": 1,
   "metadata": {},
   "outputs": [],
   "source": [
    "#This is the notebook for ML_Ex8_2: Recommendor System"
   ]
  },
  {
   "cell_type": "code",
   "execution_count": 871,
   "metadata": {},
   "outputs": [],
   "source": [
    "import pandas as pd\n",
    "import numpy as np\n",
    "import os\n",
    "from matplotlib import pyplot as plt\n",
    "from scipy import optimize as opt\n",
    "import scipy.io\n",
    "import random\n",
    "from sklearn import svm\n",
    "from nltk.stem import PorterStemmer\n",
    "from scipy.stats import norm\n"
   ]
  },
  {
   "cell_type": "code",
   "execution_count": 872,
   "metadata": {},
   "outputs": [],
   "source": [
    "#InputData\n",
    "input_data = scipy.io.loadmat(r\"C:\\Users\\Yow-Gwo Wang\\Desktop\\ML\\machine-learning-ex8\\machine-learning-ex8\\ex8\\ex8_movies.mat\")\n",
    "Y = input_data['Y']\n",
    "R = input_data['R']"
   ]
  },
  {
   "cell_type": "code",
   "execution_count": 873,
   "metadata": {},
   "outputs": [
    {
     "data": {
      "image/png": "[encoded data removed]",
      "text/plain": [
       "<Figure size 432x288 with 2 Axes>"
      ]
     },
     "metadata": {},
     "output_type": "display_data"
    }
   ],
   "source": [
    "plt.imshow(Y)\n",
    "plt.colorbar()\n",
    "plt.xlabel('User')\n",
    "plt.ylabel('Movies')\n",
    "plt.show()"
   ]
  },
  {
   "cell_type": "code",
   "execution_count": 969,
   "metadata": {},
   "outputs": [],
   "source": [
    "def cofiCostFunc(params, Y, R, num_users, num_movies, num_features,lamdba):\n",
    "    X = np.matrix(np.reshape(params[:num_movies * num_features], (num_movies, num_features)))  # (1682, 10)\n",
    "    Theta = np.matrix(np.reshape(params[num_movies * num_features:], (num_users, num_features)))  # (943, 10)\n",
    "    #Only on R = 1 elements!  \n",
    "    tmp = np.multiply(np.dot(X,Theta.transpose()) - Y, R)\n",
    "    x_grad = np.dot(tmp, Theta) + lamdba*X\n",
    "    theta_grad = np.dot(tmp.transpose(),X) + lamdba*Theta\n",
    "    grad = np.concatenate((np.ravel(x_grad), np.ravel(theta_grad)))\n",
    "    theta2 = lamdba*0.5*np.sum(np.square(Theta))\n",
    "    x2 = lamdba*0.5*np.sum(np.square(X))\n",
    "    J = 0.5*np.sum(np.square(tmp)) + x2 + theta2    \n",
    "    return J, grad"
   ]
  },
  {
   "cell_type": "code",
   "execution_count": 912,
   "metadata": {},
   "outputs": [],
   "source": [
    "def cofiCostFuncGrad(params, Y, R, num_users, num_movies, num_features,lamdba):\n",
    "    X = np.matrix(np.reshape(params[:num_movies * num_features], (num_movies, num_features)))  # (1682, 10)\n",
    "    Theta = np.matrix(np.reshape(params[num_movies * num_features:], (num_users, num_features)))  # (943, 10)\n",
    "    #Only on R = 1 elements!  \n",
    "    tmp = np.multiply(np.dot(X,Theta.transpose()) - Y, R)\n",
    "    x_grad = np.dot(tmp, Theta) + lamdba*X\n",
    "    theta_grad = np.dot(tmp.transpose(),X) + lamdba*Theta\n",
    "    grad = np.concatenate((np.ravel(x_grad), np.ravel(theta_grad)))\n",
    "    theta2 = lamdba*0.5*np.sum(np.square(Theta))\n",
    "    x2 = lamdba*0.5*np.sum(np.square(X))\n",
    "    J = 0.5*np.sum(np.square(tmp)) + x2 + theta2    \n",
    "    return grad"
   ]
  },
  {
   "cell_type": "code",
   "execution_count": 877,
   "metadata": {},
   "outputs": [
    {
     "data": {
      "text/plain": [
       "(31.344056244274217,\n",
       " array([ -0.95596339,   6.97535514,  -0.10861109,   0.60308088,\n",
       "          2.77421145,   0.25839822,   0.12985616,   4.0898522 ,\n",
       "         -0.89247334,   0.29684395,   1.06300933,   0.66738144,\n",
       "          0.60252677,   4.90185327,  -0.19747928, -10.13985478,\n",
       "          2.10136256,  -6.76563628,  -2.29347024,   0.48244098,\n",
       "         -2.99791422,  -0.64787484,  -0.71820673,   1.27006666,\n",
       "          1.09289758,  -0.40784086,   0.49026541]))"
      ]
     },
     "execution_count": 877,
     "metadata": {},
     "output_type": "execute_result"
    }
   ],
   "source": [
    "#Verify the implementation of cofiCostFunc is correct\n",
    "input_params = scipy.io.loadmat(r\"C:\\Users\\Yow-Gwo Wang\\Desktop\\ML\\machine-learning-ex8\\machine-learning-ex8\\ex8\\ex8_movieParams.mat\")\n",
    "X = input_params['X']\n",
    "theta = input_params['Theta']\n",
    "R = input_data['R']\n",
    "Y = input_data['Y']\n",
    "num_movies = 5\n",
    "num_features=3\n",
    "num_users=4\n",
    "X = X[0:num_movies, 0:num_features]\n",
    "theta = theta[0:num_users, 0:num_features]\n",
    "Y = Y[0:num_movies, 0:num_users]\n",
    "R = R[0:num_movies, 0:num_users]\n",
    "\n",
    "params = np.concatenate((np.ravel(X), np.ravel(theta)))\n",
    "cofiCostFunc(params, Y, R, 4, 5, 3, 1.5)"
   ]
  },
  {
   "cell_type": "code",
   "execution_count": 878,
   "metadata": {},
   "outputs": [],
   "source": [
    "def movie_list():\n",
    "    with open(r\"C:\\Users\\Yow-Gwo Wang\\Desktop\\ML\\machine-learning-ex8\\machine-learning-ex8\\ex8\\movie_ids.txt\", 'r') as f:\n",
    "        l = []\n",
    "        t = f.readlines()\n",
    "        for i in range(len(t)):\n",
    "            parts = t[i].split()\n",
    "            l.append(' '.join(parts[1:]))\n",
    "    return l"
   ]
  },
  {
   "cell_type": "code",
   "execution_count": 879,
   "metadata": {},
   "outputs": [
    {
     "name": "stdout",
     "output_type": "stream",
     "text": [
      "Toy Story (1995)\n",
      "[4.]\n",
      "Twelve Monkeys (1995)\n",
      "[3.]\n",
      "Usual Suspects, The (1995)\n",
      "[5.]\n",
      "Outbreak (1995)\n",
      "[4.]\n",
      "Shawshank Redemption, The (1994)\n",
      "[5.]\n",
      "While You Were Sleeping (1995)\n",
      "[3.]\n",
      "Forrest Gump (1994)\n",
      "[5.]\n",
      "Silence of the Lambs, The (1991)\n",
      "[2.]\n",
      "Alien (1979)\n",
      "[4.]\n",
      "Die Hard 2 (1990)\n",
      "[5.]\n",
      "Sphere (1998)\n",
      "[5.]\n"
     ]
    }
   ],
   "source": [
    "#Get the movie list and add ratings\n",
    "input_params = scipy.io.loadmat(r\"C:\\Users\\Yow-Gwo Wang\\Desktop\\ML\\machine-learning-ex8\\machine-learning-ex8\\ex8\\ex8_movieParams.mat\")\n",
    "X = input_params['X']\n",
    "l = movie_list()\n",
    "my_ratings = np.zeros((X.shape[0],1))\n",
    "my_ratings[0] = 4;\n",
    "my_ratings[6] = 3;\n",
    "my_ratings[11]= 5;\n",
    "my_ratings[53] = 4;\n",
    "my_ratings[63]= 5;\n",
    "my_ratings[65]= 3;\n",
    "my_ratings[68] = 5;\n",
    "my_ratings[97] = 2;\n",
    "my_ratings[182] = 4;\n",
    "my_ratings[225] = 5;\n",
    "my_ratings[354]= 5;\n",
    "for i in range(X.shape[0]):\n",
    "    if my_ratings[i]!=0:\n",
    "        print(l[i])\n",
    "        print(my_ratings[i])"
   ]
  },
  {
   "cell_type": "code",
   "execution_count": 890,
   "metadata": {},
   "outputs": [],
   "source": [
    "def normalizeRatings(Y, R):\n",
    "    Ymean=np.zeros(Y.shape[0])\n",
    "    Ynorm = np.zeros((Y.shape[0], Y.shape[1]))\n",
    "    for i in range(Y.shape[0]):\n",
    "        idx = np.where(R[i,:] == 1)[1]\n",
    "        Ymean[i] = Y[i,idx].mean()\n",
    "        Ynorm[i,idx] = Y[i,idx] - Ymean[i]\n",
    "    return Ynorm, Ymean"
   ]
  },
  {
   "cell_type": "code",
   "execution_count": 980,
   "metadata": {},
   "outputs": [],
   "source": [
    "#Add my ratings into the Y & R for training\n",
    "my_ratings = np.matrix(my_ratings).reshape(1682,1)\n",
    "input_data = scipy.io.loadmat(r\"C:\\Users\\Yow-Gwo Wang\\Desktop\\ML\\machine-learning-ex8\\machine-learning-ex8\\ex8\\ex8_movies.mat\")\n",
    "Y = input_data['Y']\n",
    "R = input_data['R']\n",
    "Y = np.append(Y, my_ratings, axis=1)\n",
    "R = np.append(R, (my_ratings != 0), axis=1)\n",
    "Ynorm, Ymean = normalizeRatings(Y, R)\n",
    "X = np.random.rand(1682, 10)\n",
    "Theta = np.random.rand(944, 10)\n",
    "params = np.concatenate((np.ravel(X), np.ravel(Theta)))\n",
    "#These 2 methods gives you similar results using Y\n",
    "#But if you use Ynorm, There is no way I can get similar results as Hw suggested\n",
    "result = opt.minimize(fun=cofiCostFunc, x0=params, args=(Y, R, Y.shape[1], Y.shape[0], X.shape[1],10), \n",
    "                      method='TNC', jac=True, options={'maxiter': 10000})\n",
    "#result2 = opt.fmin_cg(cofiCostFunc, x0=params, fprime=cofiCostFuncGrad, args=(Y,R,Y.shape[1],Y.shape[0],X.shape[1],10),maxiter=50,disp=True,full_output=True)\n",
    "params_fit = np.matrix(result.x)\n",
    "#params_fit2 = np.matrix(result2[0])\n"
   ]
  },
  {
   "cell_type": "code",
   "execution_count": 981,
   "metadata": {},
   "outputs": [
    {
     "name": "stdout",
     "output_type": "stream",
     "text": [
      "Recommend for you:\n",
      "Titanic (1997)\n",
      "4.291395948709657\n",
      "Star Wars (1977)\n",
      "4.119951886909213\n",
      "Raiders of the Lost Ark (1981)\n",
      "3.979220934426015\n",
      "Good Will Hunting (1997)\n",
      "3.9099954225760625\n",
      "Shawshank Redemption, The (1994)\n",
      "3.885805954809931\n",
      "Return of the Jedi (1983)\n",
      "3.872955265893991\n",
      "Braveheart (1995)\n",
      "3.871294265218666\n",
      "Empire Strikes Back, The (1980)\n",
      "3.8630052149106695\n",
      "Terminator 2: Judgment Day (1991)\n",
      "3.7579327784350323\n",
      "As Good As It Gets (1997)\n",
      "3.7576852997719286\n",
      "\n",
      "Your input ratings:\n",
      "Toy Story (1995)\n",
      "4.0\n",
      "Twelve Monkeys (1995)\n",
      "3.0\n",
      "Usual Suspects, The (1995)\n",
      "5.0\n",
      "Outbreak (1995)\n",
      "4.0\n",
      "Shawshank Redemption, The (1994)\n",
      "5.0\n",
      "While You Were Sleeping (1995)\n",
      "3.0\n",
      "Forrest Gump (1994)\n",
      "5.0\n",
      "Silence of the Lambs, The (1991)\n",
      "2.0\n",
      "Alien (1979)\n",
      "4.0\n",
      "Die Hard 2 (1990)\n",
      "5.0\n",
      "Sphere (1998)\n",
      "5.0\n"
     ]
    }
   ],
   "source": [
    "#I think for this exercise, no need to use feature normalizatoin\n",
    "#Since the input data set and user data set is in same scale\n",
    "#Lots of people using Y for optimziaiton and then + Ymean\n",
    "#to make the number closer to the HW slides...\n",
    "#It's confusing.....\n",
    "X = np.matrix(np.reshape(params_fit[:,0:1682 * 10], (1682, 10)))\n",
    "Theta = np.matrix(np.reshape(params_fit[:, 1682 * 10:], (944, 10)))    \n",
    "pred = X*Theta.transpose()\n",
    "\n",
    "my_preds = pred[:, -1]\n",
    "#+ Ymean.reshape(1682,1)\n",
    "my_preds.shape\n",
    "idx = np.argsort(my_preds, axis=0)[::-1]\n",
    "print('Recommend for you:')\n",
    "for i in range(10):\n",
    "    print(l[int(idx[i])])\n",
    "    print(float(my_preds[idx[i]]))\n",
    "print('\\nYour input ratings:')\n",
    "for i in range(X.shape[0]):\n",
    "    if my_ratings[i]!=0:\n",
    "        print(l[i])\n",
    "        print(float(my_ratings[i]))"
   ]
  },
  {
   "cell_type": "code",
   "execution_count": null,
   "metadata": {},
   "outputs": [],
   "source": []
  }
 ],
 "metadata": {
  "kernelspec": {
   "display_name": "Python 3",
   "language": "python",
   "name": "python3"
  },
  "language_info": {
   "codemirror_mode": {
    "name": "ipython",
    "version": 3
   },
   "file_extension": ".py",
   "mimetype": "text/x-python",
   "name": "python",
   "nbconvert_exporter": "python",
   "pygments_lexer": "ipython3",
   "version": "3.6.5"
  }
 },
 "nbformat": 4,
 "nbformat_minor": 2
}
